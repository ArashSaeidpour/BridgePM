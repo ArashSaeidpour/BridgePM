{
 "cells": [
  {
   "cell_type": "markdown",
   "metadata": {},
   "source": [
    "# Generating simulations folders\n",
    "This notebook generates simulation folders from the input Excel file."
   ]
  },
  {
   "cell_type": "markdown",
   "metadata": {},
   "source": [
    "## Modules"
   ]
  },
  {
   "cell_type": "code",
   "execution_count": 15,
   "metadata": {},
   "outputs": [],
   "source": [
    "import pandas as pd\n",
    "import numpy as np"
   ]
  },
  {
   "cell_type": "markdown",
   "metadata": {},
   "source": [
    "## Reading input XLSM file"
   ]
  },
  {
   "cell_type": "code",
   "execution_count": 54,
   "metadata": {},
   "outputs": [],
   "source": [
    "input_df = pd.read_excel('./Input Data Sheet.xlsm',index_col=0,header=None)\n",
    "input_df.columns.name = 'simulation_number'\n",
    "input_df.index.name = 'feature'"
   ]
  },
  {
   "cell_type": "code",
   "execution_count": 56,
   "metadata": {},
   "outputs": [],
   "source": [
    "def create_simulation_folder(input_df_column):\n",
    "    '''\n",
    "    Takes a column of input dataframe as input and creates corresponding folder and input txt file for simulation\n",
    "    '''\n",
    "    try:\n",
    "        folder_name = input_df_column[\"Data Directory Name\"]\n",
    "        os.mkdir(f'./{folder_name}')\n",
    "        fname = folder_name + '.txt'\n",
    "        with open(f'./{folder_name}/{fname}','w') as fp:\n",
    "            for row in input_df_column[:-1]:\n",
    "                fp.write(str(row)+'\\n')\n",
    "        return \"Input folder and file created\"\n",
    "    except FileExistsError:\n",
    "        return \"Folder (file) already exist\"\n",
    "    pass"
   ]
  },
  {
   "cell_type": "markdown",
   "metadata": {},
   "source": [
    "## Generating simulation files and folders"
   ]
  },
  {
   "cell_type": "code",
   "execution_count": 57,
   "metadata": {},
   "outputs": [],
   "source": [
    "for col in input_df.columns:\n",
    "    create_simulation_folder(input_df[col])\n",
    "\n",
    "        \n",
    "    "
   ]
  }
 ],
 "metadata": {
  "kernelspec": {
   "display_name": "Python [conda env:openseesenv]",
   "language": "python",
   "name": "conda-env-openseesenv-py"
  },
  "language_info": {
   "codemirror_mode": {
    "name": "ipython",
    "version": 3
   },
   "file_extension": ".py",
   "mimetype": "text/x-python",
   "name": "python",
   "nbconvert_exporter": "python",
   "pygments_lexer": "ipython3",
   "version": "3.6.10"
  }
 },
 "nbformat": 4,
 "nbformat_minor": 2
}
